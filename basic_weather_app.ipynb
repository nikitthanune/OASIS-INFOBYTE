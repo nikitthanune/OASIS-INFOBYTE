{
  "nbformat": 4,
  "nbformat_minor": 0,
  "metadata": {
    "colab": {
      "provenance": [],
      "authorship_tag": "ABX9TyNyVPXvxTmYwhW9j5vrglsA",
      "include_colab_link": true
    },
    "kernelspec": {
      "name": "python3",
      "display_name": "Python 3"
    },
    "language_info": {
      "name": "python"
    }
  },
  "cells": [
    {
      "cell_type": "markdown",
      "metadata": {
        "id": "view-in-github",
        "colab_type": "text"
      },
      "source": [
        "<a href=\"https://colab.research.google.com/github/nikitthanune/OASIS-INFOBYTE/blob/main/basic_weather_app.ipynb\" target=\"_parent\"><img src=\"https://colab.research.google.com/assets/colab-badge.svg\" alt=\"Open In Colab\"/></a>"
      ]
    },
    {
      "cell_type": "code",
      "execution_count": 1,
      "metadata": {
        "colab": {
          "base_uri": "https://localhost:8080/"
        },
        "id": "Zvy1fuhkIrHe",
        "outputId": "845f1f6d-e4ec-4c37-ea71-606a90e17f14"
      },
      "outputs": [
        {
          "output_type": "stream",
          "name": "stdout",
          "text": [
            "Welcome to the Weather App!\n",
            "Enter the city name: ongole\n",
            "Weather in Ongole:\n",
            "Temperature: 23.74°C\n",
            "Humidity: 59%\n",
            "Condition: Overcast clouds\n"
          ]
        }
      ],
      "source": [
        "import requests\n",
        "\n",
        "API_KEY = \"8767cf4d5d20df8eca7c7295760030e1\"  # Replace with your OpenWeatherMap API key\n",
        "BASE_URL = \"http://api.openweathermap.org/data/2.5/weather\"\n",
        "\n",
        "def get_weather(city_name):\n",
        "    \"\"\"\n",
        "    Fetch weather data for a given city using OpenWeatherMap API.\n",
        "    :param city_name: Name of the city\n",
        "    :return: Weather information or error message\n",
        "    \"\"\"\n",
        "    try:\n",
        "        # Construct the full API URL\n",
        "        params = {\"q\": city_name, \"appid\": API_KEY, \"units\": \"metric\"}\n",
        "        response = requests.get(BASE_URL, params=params)\n",
        "        data = response.json()\n",
        "\n",
        "        if response.status_code == 200:\n",
        "            # Parse and return relevant weather information\n",
        "            temp = data[\"main\"][\"temp\"]\n",
        "            humidity = data[\"main\"][\"humidity\"]\n",
        "            weather_desc = data[\"weather\"][0][\"description\"]\n",
        "            city = data[\"name\"]\n",
        "            return f\"Weather in {city}:\\nTemperature: {temp}°C\\nHumidity: {humidity}%\\nCondition: {weather_desc.capitalize()}\"\n",
        "        else:\n",
        "            return f\"Error: {data.get('message', 'Unable to fetch weather data.')}\"\n",
        "    except requests.RequestException as e:\n",
        "        return f\"Error: Unable to connect to the weather service. ({e})\"\n",
        "\n",
        "def main():\n",
        "    print(\"Welcome to the Weather App!\")\n",
        "    city_name = input(\"Enter the city name: \").strip()\n",
        "    if city_name:\n",
        "        weather_info = get_weather(city_name)\n",
        "        print(weather_info)\n",
        "    else:\n",
        "        print(\"City name cannot be empty.\")\n",
        "\n",
        "if __name__ == \"__main__\":\n",
        "    main()\n"
      ]
    }
  ]
}