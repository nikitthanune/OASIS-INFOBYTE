{
  "nbformat": 4,
  "nbformat_minor": 0,
  "metadata": {
    "colab": {
      "provenance": [],
      "authorship_tag": "ABX9TyN010MpxFnXb2ngJj3noFaZ",
      "include_colab_link": true
    },
    "kernelspec": {
      "name": "python3",
      "display_name": "Python 3"
    },
    "language_info": {
      "name": "python"
    }
  },
  "cells": [
    {
      "cell_type": "markdown",
      "metadata": {
        "id": "view-in-github",
        "colab_type": "text"
      },
      "source": [
        "<a href=\"https://colab.research.google.com/github/nikitthanune/OASIS-INFOBYTE/blob/main/BMI_calculator.ipynb\" target=\"_parent\"><img src=\"https://colab.research.google.com/assets/colab-badge.svg\" alt=\"Open In Colab\"/></a>"
      ]
    },
    {
      "cell_type": "code",
      "source": [
        "def calculate_bmi(weight, height):\n",
        "    try:\n",
        "        bmi = weight / (height ** 2)\n",
        "        if bmi < 18.5:\n",
        "            category = \"Underweight\"\n",
        "        elif 18.5 <= bmi < 24.9:\n",
        "            category = \"Normal weight\"\n",
        "        elif 25 <= bmi < 29.9:\n",
        "            category = \"Overweight\"\n",
        "        else:\n",
        "            category = \"Obesity\"\n",
        "        return bmi, category\n",
        "    except ZeroDivisionError:\n",
        "        return None, \"Invalid height (cannot be zero).\"\n",
        "\n",
        "def main():\n",
        "    print(\"Welcome to the BMI Calculator!\")\n",
        "    try:\n",
        "        weight = float(input(\"Enter your weight in kilograms: \"))\n",
        "        height = float(input(\"Enter your height in meters: \"))\n",
        "        if weight <= 0 or height <= 0:\n",
        "            print(\"Weight and height must be positive numbers.\")\n",
        "            return\n",
        "        bmi, category = calculate_bmi(weight, height)\n",
        "        if bmi:\n",
        "            print(f\"Your BMI is: {bmi:.2f}\")\n",
        "            print(f\"Category: {category}\")\n",
        "        else:\n",
        "            print(category)\n",
        "    except ValueError:\n",
        "        print(\"Invalid input. Please enter numeric values.\")\n",
        "\n",
        "if __name__ == \"__main__\":\n",
        "    main()\n",
        "\n"
      ],
      "metadata": {
        "colab": {
          "base_uri": "https://localhost:8080/"
        },
        "id": "nCHinVh_tVqz",
        "outputId": "a530fa18-6243-447c-aa7f-2da8fc0a87b9"
      },
      "execution_count": null,
      "outputs": [
        {
          "output_type": "stream",
          "name": "stdout",
          "text": [
            "Welcome to the BMI Calculator!\n",
            "Enter your weight in kilograms: 78\n",
            "Enter your height in meters: 1.725\n",
            "Your BMI is: 26.21\n",
            "Category: Overweight\n"
          ]
        }
      ]
    }
  ]
}