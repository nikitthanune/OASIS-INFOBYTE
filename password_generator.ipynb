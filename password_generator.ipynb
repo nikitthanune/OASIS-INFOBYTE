{
  "nbformat": 4,
  "nbformat_minor": 0,
  "metadata": {
    "colab": {
      "provenance": [],
      "authorship_tag": "ABX9TyOGtAa1FCRR7yCNq7Cw6irf",
      "include_colab_link": true
    },
    "kernelspec": {
      "name": "python3",
      "display_name": "Python 3"
    },
    "language_info": {
      "name": "python"
    }
  },
  "cells": [
    {
      "cell_type": "markdown",
      "metadata": {
        "id": "view-in-github",
        "colab_type": "text"
      },
      "source": [
        "<a href=\"https://colab.research.google.com/github/nikitthanune/OASIS-INFOBYTE/blob/main/password_generator.ipynb\" target=\"_parent\"><img src=\"https://colab.research.google.com/assets/colab-badge.svg\" alt=\"Open In Colab\"/></a>"
      ]
    },
    {
      "cell_type": "code",
      "execution_count": null,
      "metadata": {
        "colab": {
          "base_uri": "https://localhost:8080/"
        },
        "id": "lk1o-NuoIYnB",
        "outputId": "e5bf4a1a-654a-41f8-f1ce-4025dbe91da9"
      },
      "outputs": [
        {
          "output_type": "stream",
          "name": "stdout",
          "text": [
            "Welcome to the Random Password Generator!\n",
            "Enter the desired password length: 10\n",
            "Include letters? (yes/no): yes\n",
            "Include numbers? (yes/no): yes\n",
            "Include symbols? (yes/no): yes\n",
            "Generated Password: GF3n+~v}}R\n"
          ]
        }
      ],
      "source": [
        "import random\n",
        "import string\n",
        "\n",
        "def generate_password(length, use_letters=True, use_numbers=True, use_symbols=True):\n",
        "    \"\"\"\n",
        "    Generate a random password based on user preferences.\n",
        "    :param length: Length of the password\n",
        "    :param use_letters: Include letters in the password\n",
        "    :param use_numbers: Include numbers in the password\n",
        "    :param use_symbols: Include symbols in the password\n",
        "    :return: Randomly generated password\n",
        "    \"\"\"\n",
        "    if length <= 0:\n",
        "        return \"Password length must be greater than zero.\"\n",
        "\n",
        "    # Define character sets\n",
        "    char_set = \"\"\n",
        "    if use_letters:\n",
        "        char_set += string.ascii_letters\n",
        "    if use_numbers:\n",
        "        char_set += string.digits\n",
        "    if use_symbols:\n",
        "        char_set += string.punctuation\n",
        "\n",
        "    if not char_set:\n",
        "        return \"No character sets selected. Cannot generate password.\"\n",
        "\n",
        "    # Generate the password\n",
        "    return \"\".join(random.choice(char_set) for _ in range(length))\n",
        "\n",
        "def main():\n",
        "    print(\"Welcome to the Random Password Generator!\")\n",
        "    try:\n",
        "        length = int(input(\"Enter the desired password length: \"))\n",
        "        use_letters = input(\"Include letters? (yes/no): \").strip().lower() == \"yes\"\n",
        "        use_numbers = input(\"Include numbers? (yes/no): \").strip().lower() == \"yes\"\n",
        "        use_symbols = input(\"Include symbols? (yes/no): \").strip().lower() == \"yes\"\n",
        "\n",
        "        password = generate_password(length, use_letters, use_numbers, use_symbols)\n",
        "        print(f\"Generated Password: {password}\")\n",
        "    except ValueError:\n",
        "        print(\"Invalid input. Please enter valid numbers and options.\")\n",
        "\n",
        "if __name__ == \"__main__\":\n",
        "    main()\n"
      ]
    }
  ]
}